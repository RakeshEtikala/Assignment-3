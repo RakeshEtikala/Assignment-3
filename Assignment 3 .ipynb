{
 "cells": [
  {
   "cell_type": "markdown",
   "id": "37ba01da-fd7a-4bf2-97d4-d7b8081b00db",
   "metadata": {},
   "source": [
    "## Loops "
   ]
  },
  {
   "cell_type": "code",
   "execution_count": 2,
   "id": "d8aa1302-33c1-4781-82b4-9ca6afdd84c0",
   "metadata": {
    "tags": []
   },
   "outputs": [
    {
     "name": "stdout",
     "output_type": "stream",
     "text": [
      "1\n",
      "2\n",
      "3\n",
      "4\n",
      "5\n",
      "6\n",
      "7\n",
      "8\n",
      "9\n",
      "10\n"
     ]
    }
   ],
   "source": [
    "# 1. Write a Python program to print the numbers from 1 to 10 using a `for` loop.\n",
    "for x in range (1, 11):\n",
    "    print(x)"
   ]
  },
  {
   "cell_type": "code",
   "execution_count": 3,
   "id": "5923a725-21e9-4156-8cd8-bdf84da724c3",
   "metadata": {},
   "outputs": [
    {
     "name": "stdout",
     "output_type": "stream",
     "text": [
      "155\n"
     ]
    }
   ],
   "source": [
    "# 2. Create a program that calculates the sum of all numbers in a list using a `for` loop.\n",
    "lst = [5, 20, 30, 40, 60]\n",
    "total = 0\n",
    "for x in lst:\n",
    "    total +=x\n",
    "print(total)"
   ]
  },
  {
   "cell_type": "code",
   "execution_count": 18,
   "id": "5baf2d0b-a206-4062-a130-8e9aa45ffb1c",
   "metadata": {},
   "outputs": [
    {
     "name": "stdout",
     "output_type": "stream",
     "text": [
      "hsekaR\n"
     ]
    }
   ],
   "source": [
    "# 3. Write a program to print the characters of a string in reverse order using a `for` loop.\n",
    "string = \"Rakesh\"\n",
    "for x in string:\n",
    "    reverse = string[::-1]\n",
    "print(reverse)"
   ]
  },
  {
   "cell_type": "code",
   "execution_count": 66,
   "id": "813f7358-093c-4f59-808f-3f2563c7dd20",
   "metadata": {},
   "outputs": [
    {
     "name": "stdin",
     "output_type": "stream",
     "text": [
      "Enter any value to find the factorial 8\n"
     ]
    },
    {
     "name": "stdout",
     "output_type": "stream",
     "text": [
      "8\n",
      "16\n",
      "48\n",
      "192\n",
      "960\n",
      "5760\n",
      "40320\n",
      "322560\n"
     ]
    }
   ],
   "source": [
    "# 4. Develop a program that finds the factorial of a given number using a `for` loop.\n",
    "factorial = int(input(\"Enter any value to find the factorial\"))\n",
    "for f in range (1,factorial+1):\n",
    "    factorial *= f\n",
    "    print(factorial)"
   ]
  },
  {
   "cell_type": "code",
   "execution_count": 8,
   "id": "d9614304-1c17-43ff-91fd-6fb8384d705d",
   "metadata": {},
   "outputs": [
    {
     "name": "stdin",
     "output_type": "stream",
     "text": [
      "Enter any number to find out the multiplication table 8\n"
     ]
    },
    {
     "name": "stdout",
     "output_type": "stream",
     "text": [
      "0 0 0 0 0 0 0 0 \n",
      "0 1 2 3 4 5 6 7 \n",
      "0 2 4 6 8 10 12 14 \n",
      "0 3 6 9 12 15 18 21 \n",
      "0 4 8 12 16 20 24 28 \n",
      "0 5 10 15 20 25 30 35 \n",
      "0 6 12 18 24 30 36 42 \n",
      "0 7 14 21 28 35 42 49 \n"
     ]
    }
   ],
   "source": [
    "# Create a program to print the multiplication table of a given number using a `for` loop.\n",
    "table = int(input(\"Enter any number to find out the multiplication table\"))\n",
    "for t in range(table):\n",
    "    for j in range(table):\n",
    "        print(t*j,end= \" \")\n",
    "    print()"
   ]
  },
  {
   "cell_type": "code",
   "execution_count": 25,
   "id": "040aa5a1-a935-4aef-9dee-f0a8eadd302e",
   "metadata": {},
   "outputs": [
    {
     "name": "stdout",
     "output_type": "stream",
     "text": [
      "9\n",
      "10\n"
     ]
    }
   ],
   "source": [
    "# Write a program that counts the number of even and odd numbers in a list using a `for` loop.\n",
    "l1 = [1,2,3,4,5,4,6,8,9,7,7,5,2,3,6,4,9,78,7]\n",
    "even =0\n",
    "odd = 0\n",
    "for i in l1:\n",
    "    if i % 2 == 0:\n",
    "        even += 1\n",
    "    else:\n",
    "        odd +=1\n",
    "print (even)\n",
    "print (odd)"
   ]
  },
  {
   "cell_type": "code",
   "execution_count": 41,
   "id": "4cec28a3-0681-4bf0-b5a4-6ca3314df69d",
   "metadata": {},
   "outputs": [
    {
     "name": "stdout",
     "output_type": "stream",
     "text": [
      "1 0 0 0 0 \n",
      "1 1 1 1 1 \n",
      "1 2 4 8 16 \n",
      "1 3 9 27 81 \n",
      "1 4 16 64 256 \n"
     ]
    }
   ],
   "source": [
    "# Develop a program that prints the squares of numbers from 1 to 5 using a `for` loop.\n",
    "for i in range (0, 5):\n",
    "    for j in range (0, 5):\n",
    "        square = i**j\n",
    "        print(square, end = \" \")\n",
    "    print()"
   ]
  },
  {
   "cell_type": "code",
   "execution_count": 51,
   "id": "07b25543-e3fe-4105-b37e-17bd831ee814",
   "metadata": {},
   "outputs": [
    {
     "name": "stdout",
     "output_type": "stream",
     "text": [
      "String length is 6\n"
     ]
    }
   ],
   "source": [
    "# Create a program to find the length of a string without using the `len()` function.\n",
    "string = \"Rakesh\"\n",
    "length = 0\n",
    "for i in string:\n",
    "    length += 1\n",
    "print(f\"String length is\",length)  "
   ]
  },
  {
   "cell_type": "code",
   "execution_count": 17,
   "id": "c1be5e11-a98b-4175-9bf7-876c081c3656",
   "metadata": {},
   "outputs": [
    {
     "name": "stdout",
     "output_type": "stream",
     "text": [
      "The sum of numbers in list is  63\n",
      "The length of list is  12\n",
      "The average of list is  5.25\n"
     ]
    }
   ],
   "source": [
    "# Write a program that calculates the average of a list of numbers using a `for` loop.\n",
    "l2 = [1,2,3,4,5,6,8,9,7,5,6,7]\n",
    "length = 0\n",
    "total = 0\n",
    "for i in l2:\n",
    "    total += i  \n",
    "    length +=1\n",
    "    average = total / length\n",
    "print (\"The sum of numbers in list is \", total)\n",
    "print (\"The length of list is \", length)\n",
    "print (\"The average of list is \", average)"
   ]
  },
  {
   "cell_type": "code",
   "execution_count": 11,
   "id": "87765cef-0c74-49aa-97dd-be5cb9f9ec18",
   "metadata": {},
   "outputs": [
    {
     "name": "stdin",
     "output_type": "stream",
     "text": [
      "Enter any number to get Fibonacci sequance 5\n"
     ]
    },
    {
     "name": "stdout",
     "output_type": "stream",
     "text": [
      "0\n",
      "1\n",
      "1\n",
      "2\n",
      "3\n"
     ]
    }
   ],
   "source": [
    "# Develop a program that prints the first `n` Fibonacci numbers using a `for` loop.\n",
    "n = int(input(\"Enter any number to get Fibonacci sequance\"))\n",
    "a = 0\n",
    "b = 1\n",
    "print(a)\n",
    "print(b)\n",
    "for i in range (2,n):\n",
    "    c=a+b\n",
    "    a=b\n",
    "    b=c\n",
    "    print(c)"
   ]
  }
 ],
 "metadata": {
  "kernelspec": {
   "display_name": "Python 3 (ipykernel)",
   "language": "python",
   "name": "python3"
  },
  "language_info": {
   "codemirror_mode": {
    "name": "ipython",
    "version": 3
   },
   "file_extension": ".py",
   "mimetype": "text/x-python",
   "name": "python",
   "nbconvert_exporter": "python",
   "pygments_lexer": "ipython3",
   "version": "3.10.8"
  }
 },
 "nbformat": 4,
 "nbformat_minor": 5
}
